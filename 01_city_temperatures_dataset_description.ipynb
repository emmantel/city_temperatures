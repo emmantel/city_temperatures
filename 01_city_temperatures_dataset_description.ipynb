{
 "cells": [
  {
   "cell_type": "markdown",
   "id": "3abeb464",
   "metadata": {},
   "source": [
    "# Dataset Validation"
   ]
  },
  {
   "cell_type": "code",
   "execution_count": 8,
   "id": "cdedc09f",
   "metadata": {
    "scrolled": true
   },
   "outputs": [
    {
     "name": "stdout",
     "output_type": "stream",
     "text": [
      "original size: (2906327, 8)\n",
      "data rows removed: (79672, 8)\n",
      "size of clean data: (2826655, 8)\n"
     ]
    }
   ],
   "source": [
    "import pandas as pd\n",
    "import matplotlib.pyplot as plt\n",
    "\n",
    "# Specify the file path to the CSV file\n",
    "file_path = 'city_temperature.csv'\n",
    "\n",
    "# Define the column names for your data\n",
    "column_names = ['region','country', 'state', 'city','month', 'day',  'year', 'avgtemperature']\n",
    "\n",
    "# Define the data types for each column\n",
    "data_types = {'region': str, 'country': str, 'state': str,  'city': str, 'month': int, 'day': int, 'year': int, 'avgtemperature': float}\n",
    "\n",
    "# Read the CSV file into a DataFrame\n",
    "df = pd.read_csv(file_path, names=column_names, skiprows=1, dtype=data_types)\n",
    "print(f'original size: {df.shape}')\n",
    "\n",
    "# find how much is removed\n",
    "df_rem = df[(df['day'] == 0) | (df.avgtemperature == -99)]\n",
    "num_removed = df_rem.shape\n",
    "print(f'data rows removed: {num_removed}')\n",
    "\n",
    "# cleaning\n",
    "df = df[(df['day'] != 0) & (df.avgtemperature != -99)]\n",
    "print(f'size of clean data: {df.shape}')"
   ]
  },
  {
   "cell_type": "markdown",
   "id": "eafdfb60",
   "metadata": {},
   "source": [
    "## Data Overview"
   ]
  },
  {
   "cell_type": "code",
   "execution_count": 9,
   "id": "81360fdb",
   "metadata": {
    "scrolled": false
   },
   "outputs": [
    {
     "data": {
      "text/html": [
       "<div>\n",
       "<style scoped>\n",
       "    .dataframe tbody tr th:only-of-type {\n",
       "        vertical-align: middle;\n",
       "    }\n",
       "\n",
       "    .dataframe tbody tr th {\n",
       "        vertical-align: top;\n",
       "    }\n",
       "\n",
       "    .dataframe thead th {\n",
       "        text-align: right;\n",
       "    }\n",
       "</style>\n",
       "<table border=\"1\" class=\"dataframe\">\n",
       "  <thead>\n",
       "    <tr style=\"text-align: right;\">\n",
       "      <th></th>\n",
       "      <th>region</th>\n",
       "      <th>country</th>\n",
       "      <th>state</th>\n",
       "      <th>city</th>\n",
       "      <th>month</th>\n",
       "      <th>day</th>\n",
       "      <th>year</th>\n",
       "      <th>avgtemperature</th>\n",
       "    </tr>\n",
       "  </thead>\n",
       "  <tbody>\n",
       "    <tr>\n",
       "      <th>0</th>\n",
       "      <td>Africa</td>\n",
       "      <td>Algeria</td>\n",
       "      <td>NaN</td>\n",
       "      <td>Algiers</td>\n",
       "      <td>1</td>\n",
       "      <td>1</td>\n",
       "      <td>1995</td>\n",
       "      <td>64.2</td>\n",
       "    </tr>\n",
       "    <tr>\n",
       "      <th>1093065</th>\n",
       "      <td>Middle East</td>\n",
       "      <td>Turkey</td>\n",
       "      <td>NaN</td>\n",
       "      <td>Ankara</td>\n",
       "      <td>1</td>\n",
       "      <td>14</td>\n",
       "      <td>1995</td>\n",
       "      <td>41.2</td>\n",
       "    </tr>\n",
       "    <tr>\n",
       "      <th>1093066</th>\n",
       "      <td>Middle East</td>\n",
       "      <td>Turkey</td>\n",
       "      <td>NaN</td>\n",
       "      <td>Ankara</td>\n",
       "      <td>1</td>\n",
       "      <td>15</td>\n",
       "      <td>1995</td>\n",
       "      <td>37.2</td>\n",
       "    </tr>\n",
       "    <tr>\n",
       "      <th>1093067</th>\n",
       "      <td>Middle East</td>\n",
       "      <td>Turkey</td>\n",
       "      <td>NaN</td>\n",
       "      <td>Ankara</td>\n",
       "      <td>1</td>\n",
       "      <td>16</td>\n",
       "      <td>1995</td>\n",
       "      <td>32.1</td>\n",
       "    </tr>\n",
       "    <tr>\n",
       "      <th>1093068</th>\n",
       "      <td>Middle East</td>\n",
       "      <td>Turkey</td>\n",
       "      <td>NaN</td>\n",
       "      <td>Ankara</td>\n",
       "      <td>1</td>\n",
       "      <td>17</td>\n",
       "      <td>1995</td>\n",
       "      <td>26.6</td>\n",
       "    </tr>\n",
       "    <tr>\n",
       "      <th>...</th>\n",
       "      <td>...</td>\n",
       "      <td>...</td>\n",
       "      <td>...</td>\n",
       "      <td>...</td>\n",
       "      <td>...</td>\n",
       "      <td>...</td>\n",
       "      <td>...</td>\n",
       "      <td>...</td>\n",
       "    </tr>\n",
       "    <tr>\n",
       "      <th>2825300</th>\n",
       "      <td>North America</td>\n",
       "      <td>US</td>\n",
       "      <td>Washington</td>\n",
       "      <td>Spokane</td>\n",
       "      <td>1</td>\n",
       "      <td>15</td>\n",
       "      <td>2020</td>\n",
       "      <td>17.7</td>\n",
       "    </tr>\n",
       "    <tr>\n",
       "      <th>2825301</th>\n",
       "      <td>North America</td>\n",
       "      <td>US</td>\n",
       "      <td>Washington</td>\n",
       "      <td>Spokane</td>\n",
       "      <td>1</td>\n",
       "      <td>16</td>\n",
       "      <td>2020</td>\n",
       "      <td>30.8</td>\n",
       "    </tr>\n",
       "    <tr>\n",
       "      <th>2825302</th>\n",
       "      <td>North America</td>\n",
       "      <td>US</td>\n",
       "      <td>Washington</td>\n",
       "      <td>Spokane</td>\n",
       "      <td>1</td>\n",
       "      <td>17</td>\n",
       "      <td>2020</td>\n",
       "      <td>26.3</td>\n",
       "    </tr>\n",
       "    <tr>\n",
       "      <th>2825303</th>\n",
       "      <td>North America</td>\n",
       "      <td>US</td>\n",
       "      <td>Washington</td>\n",
       "      <td>Spokane</td>\n",
       "      <td>1</td>\n",
       "      <td>18</td>\n",
       "      <td>2020</td>\n",
       "      <td>26.9</td>\n",
       "    </tr>\n",
       "    <tr>\n",
       "      <th>2825304</th>\n",
       "      <td>North America</td>\n",
       "      <td>US</td>\n",
       "      <td>Washington</td>\n",
       "      <td>Spokane</td>\n",
       "      <td>1</td>\n",
       "      <td>19</td>\n",
       "      <td>2020</td>\n",
       "      <td>32.8</td>\n",
       "    </tr>\n",
       "  </tbody>\n",
       "</table>\n",
       "<p>2826652 rows × 8 columns</p>\n",
       "</div>"
      ],
      "text/plain": [
       "                region  country       state     city  month  day  year  \\\n",
       "0               Africa  Algeria         NaN  Algiers      1    1  1995   \n",
       "1093065    Middle East   Turkey         NaN   Ankara      1   14  1995   \n",
       "1093066    Middle East   Turkey         NaN   Ankara      1   15  1995   \n",
       "1093067    Middle East   Turkey         NaN   Ankara      1   16  1995   \n",
       "1093068    Middle East   Turkey         NaN   Ankara      1   17  1995   \n",
       "...                ...      ...         ...      ...    ...  ...   ...   \n",
       "2825300  North America       US  Washington  Spokane      1   15  2020   \n",
       "2825301  North America       US  Washington  Spokane      1   16  2020   \n",
       "2825302  North America       US  Washington  Spokane      1   17  2020   \n",
       "2825303  North America       US  Washington  Spokane      1   18  2020   \n",
       "2825304  North America       US  Washington  Spokane      1   19  2020   \n",
       "\n",
       "         avgtemperature  \n",
       "0                  64.2  \n",
       "1093065            41.2  \n",
       "1093066            37.2  \n",
       "1093067            32.1  \n",
       "1093068            26.6  \n",
       "...                 ...  \n",
       "2825300            17.7  \n",
       "2825301            30.8  \n",
       "2825302            26.3  \n",
       "2825303            26.9  \n",
       "2825304            32.8  \n",
       "\n",
       "[2826652 rows x 8 columns]"
      ]
     },
     "execution_count": 9,
     "metadata": {},
     "output_type": "execute_result"
    }
   ],
   "source": [
    "# quick data overview\n",
    "df.sort_values(by='year').head(-3)"
   ]
  },
  {
   "cell_type": "markdown",
   "id": "7862d36c",
   "metadata": {},
   "source": [
    "## Summary of Cities"
   ]
  },
  {
   "cell_type": "code",
   "execution_count": 11,
   "id": "8f5174ea",
   "metadata": {
    "scrolled": true
   },
   "outputs": [
    {
     "name": "stdout",
     "output_type": "stream",
     "text": [
      "number od US cities: 154\n",
      "number of international cities: 167\n",
      "number of countries: 125\n"
     ]
    }
   ],
   "source": [
    "# summary of city numbers\n",
    "\n",
    "num_us = len(df[df.country == 'US'].city.unique())\n",
    "num_non_us = len(df[df.country != 'US'].city.unique())\n",
    "country_num = len(df.country.unique())\n",
    "\n",
    "print(f'number od US cities: {num_us}')\n",
    "print(f'number of international cities: {num_non_us}')\n",
    "print(f'number of countries: {country_num}')"
   ]
  },
  {
   "cell_type": "markdown",
   "id": "ff4c26f9",
   "metadata": {},
   "source": [
    "## Checking Robustness of the Data"
   ]
  },
  {
   "cell_type": "code",
   "execution_count": 12,
   "id": "3deed4ae",
   "metadata": {},
   "outputs": [],
   "source": [
    "# checking robustness of the clean dataset\n",
    "\n",
    "import matplotlib.pyplot as plt\n",
    "\n",
    "# get an average temperature for each month for each city\n",
    "df_filt = df.drop(columns=['region'])\n",
    "\n",
    "# get just US cities for summarizing the data\n",
    "#df_filt = df_filt[(df_filt.country == 'US') & (df_filt.year < 2020)]\n",
    "\n",
    "# also don't need the country column anymore\n",
    "df_filt = df_filt.drop(columns=['country'])\n",
    "\n",
    "days = df_filt.day\n",
    "months = df_filt.month\n",
    "years = df_filt.year"
   ]
  },
  {
   "cell_type": "code",
   "execution_count": 13,
   "id": "dca1160a",
   "metadata": {},
   "outputs": [
    {
     "data": {
      "text/plain": [
       "(array([92987., 93205., 93212., 93131., 93147., 93141., 93141., 93282.,\n",
       "        93003., 92880., 93148., 93193., 93137., 92884., 92899., 92810.,\n",
       "        92710., 92383., 92516., 92687., 92532., 92986., 92835., 92203.,\n",
       "        92626., 92936., 92982., 92704., 87103., 84600., 53652.]),\n",
       " array([ 1.        ,  1.96774194,  2.93548387,  3.90322581,  4.87096774,\n",
       "         5.83870968,  6.80645161,  7.77419355,  8.74193548,  9.70967742,\n",
       "        10.67741935, 11.64516129, 12.61290323, 13.58064516, 14.5483871 ,\n",
       "        15.51612903, 16.48387097, 17.4516129 , 18.41935484, 19.38709677,\n",
       "        20.35483871, 21.32258065, 22.29032258, 23.25806452, 24.22580645,\n",
       "        25.19354839, 26.16129032, 27.12903226, 28.09677419, 29.06451613,\n",
       "        30.03225806, 31.        ]),\n",
       " <BarContainer object of 31 artists>)"
      ]
     },
     "execution_count": 13,
     "metadata": {},
     "output_type": "execute_result"
    },
    {
     "data": {
      "image/png": "[encoded data removed]",
      "text/plain": [
       "<Figure size 640x480 with 1 Axes>"
      ]
     },
     "metadata": {},
     "output_type": "display_data"
    }
   ],
   "source": [
    "plt.hist(days, 31)"
   ]
  },
  {
   "cell_type": "code",
   "execution_count": 14,
   "id": "46d93b95",
   "metadata": {},
   "outputs": [
    {
     "data": {
      "text/plain": [
       "(array([112152., 112734., 112952., 111102., 113406., 114169., 115277.,\n",
       "        113616., 114283., 114597., 114775., 114201., 113180., 112724.,\n",
       "        112977., 113642., 112407., 111165., 110228., 107860., 106809.,\n",
       "        106403., 106421., 105748., 105085.,  38742.]),\n",
       " array([1995.        , 1995.96153846, 1996.92307692, 1997.88461538,\n",
       "        1998.84615385, 1999.80769231, 2000.76923077, 2001.73076923,\n",
       "        2002.69230769, 2003.65384615, 2004.61538462, 2005.57692308,\n",
       "        2006.53846154, 2007.5       , 2008.46153846, 2009.42307692,\n",
       "        2010.38461538, 2011.34615385, 2012.30769231, 2013.26923077,\n",
       "        2014.23076923, 2015.19230769, 2016.15384615, 2017.11538462,\n",
       "        2018.07692308, 2019.03846154, 2020.        ]),\n",
       " <BarContainer object of 26 artists>)"
      ]
     },
     "execution_count": 14,
     "metadata": {},
     "output_type": "execute_result"
    },
    {
     "data": {
      "image/png": "[encoded data removed]",
      "text/plain": [
       "<Figure size 640x480 with 1 Axes>"
      ]
     },
     "metadata": {},
     "output_type": "display_data"
    }
   ],
   "source": [
    "plt.hist(years, 26)"
   ]
  },
  {
   "cell_type": "code",
   "execution_count": 15,
   "id": "087c32b1",
   "metadata": {},
   "outputs": [
    {
     "data": {
      "text/plain": [
       "(array([246046., 224721., 246302., 237989., 240315., 228132., 237170.,\n",
       "        236652., 228865., 236803., 228526., 235134.]),\n",
       " array([ 1.        ,  1.91666667,  2.83333333,  3.75      ,  4.66666667,\n",
       "         5.58333333,  6.5       ,  7.41666667,  8.33333333,  9.25      ,\n",
       "        10.16666667, 11.08333333, 12.        ]),\n",
       " <BarContainer object of 12 artists>)"
      ]
     },
     "execution_count": 15,
     "metadata": {},
     "output_type": "execute_result"
    },
    {
     "data": {
      "image/png": "[encoded data removed]",
      "text/plain": [
       "<Figure size 640x480 with 1 Axes>"
      ]
     },
     "metadata": {},
     "output_type": "display_data"
    }
   ],
   "source": [
    "plt.hist(months, 12)"
   ]
  }
 ],
 "metadata": {
  "kernelspec": {
   "display_name": "Python 3 (ipykernel)",
   "language": "python",
   "name": "python3"
  },
  "language_info": {
   "codemirror_mode": {
    "name": "ipython",
    "version": 3
   },
   "file_extension": ".py",
   "mimetype": "text/x-python",
   "name": "python",
   "nbconvert_exporter": "python",
   "pygments_lexer": "ipython3",
   "version": "3.11.3"
  }
 },
 "nbformat": 4,
 "nbformat_minor": 5
}
